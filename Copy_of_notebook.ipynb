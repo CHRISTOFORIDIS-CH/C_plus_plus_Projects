{
  "nbformat": 4,
  "nbformat_minor": 0,
  "metadata": {
    "kernelspec": {
      "display_name": "Python 3",
      "language": "python",
      "name": "python3"
    },
    "language_info": {
      "codemirror_mode": {
        "name": "ipython",
        "version": 3
      },
      "file_extension": ".py",
      "mimetype": "text/x-python",
      "name": "python",
      "nbconvert_exporter": "python",
      "pygments_lexer": "ipython3",
      "version": "3.7.6"
    },
    "colab": {
      "name": "Copy of notebook.ipynb",
      "provenance": [],
      "include_colab_link": true
    }
  },
  "cells": [
    {
      "cell_type": "markdown",
      "metadata": {
        "id": "view-in-github",
        "colab_type": "text"
      },
      "source": [
        "<a href=\"https://colab.research.google.com/github/CHRISTOFORIDIS-CH/C_plus_plus_Projects/blob/main/Copy_of_notebook.ipynb\" target=\"_parent\"><img src=\"https://colab.research.google.com/assets/colab-badge.svg\" alt=\"Open In Colab\"/></a>"
      ]
    },
    {
      "cell_type": "markdown",
      "metadata": {
        "id": "YwJoy2_69ZUf"
      },
      "source": [
        "<img src=\"https://www.unipi-pms-cs.gr/wp-content/uploads/2020/06/unipi-logo-dpr.png\">"
      ]
    },
    {
      "cell_type": "markdown",
      "metadata": {
        "id": "XE9laYz49ZVQ"
      },
      "source": [
        "<center>\n",
        "    <h1>ΑΝΑΓΝΩΡΙΣΗ ΠΡΟΤΥΠΩΝ</h1>\n",
        "    <h4>5ο εξάμηνο, υποχρεωτικό</h4>\n",
        "\n",
        "----------\n",
        "    \n",
        "</center>"
      ]
    },
    {
      "cell_type": "markdown",
      "metadata": {
        "id": "gMpewNCM9ZVX"
      },
      "source": [
        "## 1. Εισαγωγή\n",
        "\n",
        "Το παρών *jupyter notebook* πλαισιώνει την δουλεία και τα αποτελέσματα που εξήγαμε για την εργασία με τίτλο **Πρόγνωση Αποτελεσμάτων Ποδοσφαιρικών Αγώνων με χρήση Αλγορίθμων Μηχανικής Μάθησης** στο μάθημα της **Αναγνώρισης Προτύπων**.\n",
        "\n",
        "> Το [Jupyter Notebook](http://jupyter.org/) είναι μια διαδικτυακή\n",
        "> εφαρμογή, ελεύθερου λογισμικού και ανοιχτού κώδικα που σας επιτρέπει\n",
        "> να δημιουργήσετε και να μοιραστείτε έγγραφα που περιέχουν κώδικα,\n",
        "> εξισώσεις, γραφήματα, απεικονίσεις και επεξηγηματικό κείμενο. Το\n",
        "> Jupyter notebook προσφέρει δυνατότητες παρουσίασης μορφοποιημένου\n",
        "> κείμενου, μαθηματικών εξισώσεων και συμβόλων, και διαδραστικά στοιχεία\n",
        "> με εκτελέσιμο κώδικα υπολογιστή, μέσα από το γνώριμο περιβάλλον του\n",
        "> web browser. --\n",
        "> [ellak.gr](https://edu.ellak.gr/2017/02/06/jupyter-notebook-dimiourgiste-ke-mirastite-diadrastikes-parousiasis-mathimatikon-statistikis-ke-programmatismou/)\n",
        "\n",
        "Επιλέξαμε την συγκεκριμένη μορφή παρουσίασης καθώς μας δίνει την δυνατότητα να συνδυάσουμε την τεκμηρίωση(κείμενο & κώδικας LaTeX) μας με τα αντίστοιχα κομμάτια κώδικα τα οποία μπορούν να εκτελεστούν σε πραγματικό χρόνο από τον διδάσκοντα. Για την εκτέλεση των αντίστοιχων code snippets αρκεί να γίνει focus στο επιθυμητό κελί και να πατηθεί είτε το κουμπί Run από το κεντρικό μενού(Jupyter Notebook / Google Colab) είτε με τα πλήκτρα Cntrl + Enter."
      ]
    },
    {
      "cell_type": "markdown",
      "metadata": {
        "id": "HT_-vc7w9ZVb"
      },
      "source": [
        "## 2. Βιβλιοθήκες που χρησιμοποιήσαμε\n",
        "\n",
        "Στα πλαίσια της εργασίας έγινε χρήση της γλώσσας προγραμματισμού *Python* καθώς και επιμέρους βιβλιοθηκών. Πιο συγκεκριμένα, πέρα από τις κλασικές βιβλιοθήκες της standard library όπου χρειάστηκαν για πολύ βασικές λειτουργίες όπως η επεξεργασία λιστών, έγινε χρήση επιστημονικών βιβλιοθηκών που ενδείκνυνται για μεγάλα δεδομένα. \n",
        "\n",
        "Αυτές είναι οι βιβλιοθήκες **Pandas** και **Numpy** που προορίζονται για επεξεργασία πινάκων - οργανωμένων δεδομένων σε tabular μορφή καθώς και οι βιβλιοθήκες **tensorflow**/**keras** και **sklearn**. Οι τελευταίες προσφέρουν αλγορίθμους αριθμητικής ανάλυσης, βελτιστοποίησης και ειδικά αλγορίθμους που χρειάζονται στο *machine learning*."
      ]
    },
    {
      "cell_type": "code",
      "metadata": {
        "id": "s5hHRN0B9ZVf"
      },
      "source": [
        "import os.path\n",
        "import operator\n",
        "from os import path\n",
        " \n",
        "import sqlite3\n",
        "import numpy as np\n",
        "import pandas as pd\n",
        "from sklearn import linear_model\n",
        "from sklearn.model_selection import KFold\n",
        "from sklearn.metrics import accuracy_score\n",
        "from sklearn.preprocessing import MinMaxScaler\n",
        " \n",
        "from tensorflow.keras.optimizers import SGD\n",
        "from tensorflow.keras.models import Sequential\n",
        "from tensorflow.keras.models import Model\n",
        "from tensorflow.keras.layers import Dense"
      ],
      "execution_count": null,
      "outputs": []
    },
    {
      "cell_type": "markdown",
      "metadata": {
        "id": "eRdzfg6F9ZVj"
      },
      "source": [
        "1. Η βιβλιοθήκη os παρέχει μια διεπαφή για την πρόσβαση στο σύστημα αρχείου του αντίστοιχου λειτουργικού. Στην περίπτωση μας χρησιμοποιείται για την αποθήκευση των δεδομένων αφού γίνει ο καθαρισμός και το αντίστοιχο processing.\n",
        "    \n",
        "2. Το πακέτο sqlite3 υλοποιεί ένα API σε Python για την πρόσβαση στις\n",
        "    λειτουργίας μιας βάσης τύπου sqlite. \n",
        "\n",
        "3. Η βιβλιοθήκη Pandas χρησιμοποιείται για την μετατροπή του πίνακα της sqlite σε DataFrames.\n",
        "    \n",
        "4. Τα πακέτα sklearn/tensorflow χρησιμοποιούνται για την υλοποίηση των αλγορίθμων μηχανικής μάθησης, όπως για τους επαναληπτικούς αλγόριθμους βελτιστοποίησης, συναρτήσεις κόστους καθώς και για kfold validation και data scaling."
      ]
    },
    {
      "cell_type": "markdown",
      "metadata": {
        "id": "dlCY1E3k9ZVm"
      },
      "source": [
        "## 3. Φόρτωση Δεδομένων και Προεπεξεργασία\n",
        "\n",
        "Αρχικά κατεβάσε το αρχείο το οποίο δίνεται από τον σύνδεσμο https://www.kaggle.com/hugomathien/soccer. Το σύνολο των δεδομένων είναι οργανομένω σε μια σχεσιακή βάση αρχείου τύπου Sqlite. Η βασή δεδομένων εμπεριέχει τους παρακάτω πίνακες. Ενδεικτικά αναφέρουμε και τον αριθμό εγγραφών που υπάρχει σε καθέναν από αυτούς.\n",
        "\n",
        "Table\tTotal Rows\tTotal Columns\n",
        "\n",
        "Country\t11\t2\n",
        "\n",
        "League\t11\t3\n",
        "\n",
        "Match\t25979\t115\n",
        "\n",
        "Player\t11060\t7\n",
        "\n",
        "Player_Attributes\t183978\t42\n",
        "\n",
        "Team\t299\t5\n",
        "\n",
        "Team_Attributes\t1458\t25\n",
        "\n",
        "\n",
        "Για τα πλαίσια του μαθήματος χρησιμοποιήουμε τους πίνακες Match και Team_Attributes."
      ]
    },
    {
      "cell_type": "code",
      "metadata": {
        "id": "pYE-PEcc9ZVp"
      },
      "source": [
        "con = sqlite3.connect(\"database.sqlite\")"
      ],
      "execution_count": null,
      "outputs": []
    },
    {
      "cell_type": "code",
      "metadata": {
        "id": "Ui2Yr27S9ZVr",
        "outputId": "a07dc411-bf72-4443-ef63-439df72b48da"
      },
      "source": [
        "cursor = con.cursor()\n",
        "cursor.execute(\"SELECT name FROM sqlite_master WHERE type='table';\")\n",
        "\n",
        "print('Database Tables:')\n",
        "print(cursor.fetchall())"
      ],
      "execution_count": null,
      "outputs": [
        {
          "output_type": "stream",
          "text": [
            "Database Tables:\n",
            "[('sqlite_sequence',), ('Player_Attributes',), ('Player',), ('Match',), ('League',), ('Country',), ('Team',), ('Team_Attributes',)]\n"
          ],
          "name": "stdout"
        }
      ]
    },
    {
      "cell_type": "markdown",
      "metadata": {
        "id": "TIuw_fhB9ZVw"
      },
      "source": [
        "### 3.1 Φόρτωση των πινάκων και μετατροπή αυτών σε Pandas DataFrames"
      ]
    },
    {
      "cell_type": "code",
      "metadata": {
        "id": "pklyMxQG9ZV0"
      },
      "source": [
        "match = pd.read_sql_query(\"SELECT * from Match\", con)\n",
        "team_attributes = pd.read_sql_query(\"SELECT * from Team_Attributes\", con)"
      ],
      "execution_count": null,
      "outputs": []
    },
    {
      "cell_type": "markdown",
      "metadata": {
        "id": "uTLGGZxK9ZV1"
      },
      "source": [
        "### 3.2 Εξαγωγή χρονολογία εγγραφής για κάθε ομάδα από το κάθε timestamp"
      ]
    },
    {
      "cell_type": "code",
      "metadata": {
        "id": "5SjOuL8b9ZV3"
      },
      "source": [
        "match['date'] = pd.to_datetime(match['date'])\n",
        "match['year'] = match['date'].dt.year\n",
        "\n",
        "team_attributes['date'] = pd.to_datetime(team_attributes['date'])\n",
        "team_attributes['year'] = team_attributes['date'].dt.year"
      ],
      "execution_count": null,
      "outputs": []
    },
    {
      "cell_type": "markdown",
      "metadata": {
        "id": "j2lt_sJe9ZV5"
      },
      "source": [
        "### 3.3 Εξαγωγή των απαραίτητων στηλών που θα χρησιμοποιήσουμε κατά την διαδικασία της εκπαίδευσης"
      ]
    },
    {
      "cell_type": "code",
      "metadata": {
        "id": "CXKUmnRN9ZV6"
      },
      "source": [
        "match_attributes_to_keep = ['year', 'home_team_api_id', 'away_team_api_id', 'home_team_goal', 'away_team_goal', 'B365H', 'B365D', 'B365A', 'BWH', 'BWD', 'BWA', 'IWH', 'IWD', 'IWA', 'LBH', 'LBD', 'LBA']\n",
        "team_attributes_to_keep = ['year', 'team_api_id', 'buildUpPlaySpeed','buildUpPlayPassing', 'chanceCreationPassing', 'chanceCreationCrossing', 'chanceCreationShooting', 'defencePressure', 'defenceAggression','defenceTeamWidth']"
      ],
      "execution_count": null,
      "outputs": []
    },
    {
      "cell_type": "code",
      "metadata": {
        "id": "sVj_NeZ59ZV8"
      },
      "source": [
        "match = match[match_attributes_to_keep]\n",
        "team_attributes = team_attributes[team_attributes_to_keep]"
      ],
      "execution_count": null,
      "outputs": []
    },
    {
      "cell_type": "markdown",
      "metadata": {
        "id": "Ctr6eVyi9ZV9"
      },
      "source": [
        "Λάβαμε υπόψιν πως υπάρχουν εγγραφές στον πίνακα Match για τις οποίες τα αντίστοιχα διανύσματα προγνωστικών έχουν μηδενικές τιμές. Για τον σκοπό αυτό τις αντικαταστήσαμε με κενές μεταβλητές τύπου np.nan και ύστερα όσες εγγραφές είχαν nan στοιχεία τις αφαιρέσαμε."
      ]
    },
    {
      "cell_type": "code",
      "metadata": {
        "id": "tYHR7NYx9ZV-"
      },
      "source": [
        "match = match.replace(np.nan, 0.0)\n",
        "match = match.dropna()\n",
        "team_attributes = team_attributes.dropna()"
      ],
      "execution_count": null,
      "outputs": []
    },
    {
      "cell_type": "markdown",
      "metadata": {
        "id": "lrQqa_d99ZWA"
      },
      "source": [
        "#### Πίνακας Match"
      ]
    },
    {
      "cell_type": "code",
      "metadata": {
        "scrolled": false,
        "id": "xZtRegbI9ZWA",
        "outputId": "f52c087b-aea2-43ed-9bdb-a3412048a58e"
      },
      "source": [
        "match"
      ],
      "execution_count": null,
      "outputs": [
        {
          "output_type": "execute_result",
          "data": {
            "text/html": [
              "<div>\n",
              "<style scoped>\n",
              "    .dataframe tbody tr th:only-of-type {\n",
              "        vertical-align: middle;\n",
              "    }\n",
              "\n",
              "    .dataframe tbody tr th {\n",
              "        vertical-align: top;\n",
              "    }\n",
              "\n",
              "    .dataframe thead th {\n",
              "        text-align: right;\n",
              "    }\n",
              "</style>\n",
              "<table border=\"1\" class=\"dataframe\">\n",
              "  <thead>\n",
              "    <tr style=\"text-align: right;\">\n",
              "      <th></th>\n",
              "      <th>year</th>\n",
              "      <th>home_team_api_id</th>\n",
              "      <th>away_team_api_id</th>\n",
              "      <th>home_team_goal</th>\n",
              "      <th>away_team_goal</th>\n",
              "      <th>B365H</th>\n",
              "      <th>B365D</th>\n",
              "      <th>B365A</th>\n",
              "      <th>BWH</th>\n",
              "      <th>BWD</th>\n",
              "      <th>BWA</th>\n",
              "      <th>IWH</th>\n",
              "      <th>IWD</th>\n",
              "      <th>IWA</th>\n",
              "      <th>LBH</th>\n",
              "      <th>LBD</th>\n",
              "      <th>LBA</th>\n",
              "    </tr>\n",
              "  </thead>\n",
              "  <tbody>\n",
              "    <tr>\n",
              "      <th>0</th>\n",
              "      <td>2008</td>\n",
              "      <td>9987</td>\n",
              "      <td>9993</td>\n",
              "      <td>1</td>\n",
              "      <td>1</td>\n",
              "      <td>1.73</td>\n",
              "      <td>3.40</td>\n",
              "      <td>5.00</td>\n",
              "      <td>1.75</td>\n",
              "      <td>3.35</td>\n",
              "      <td>4.20</td>\n",
              "      <td>1.85</td>\n",
              "      <td>3.2</td>\n",
              "      <td>3.5</td>\n",
              "      <td>1.80</td>\n",
              "      <td>3.3</td>\n",
              "      <td>3.75</td>\n",
              "    </tr>\n",
              "    <tr>\n",
              "      <th>1</th>\n",
              "      <td>2008</td>\n",
              "      <td>10000</td>\n",
              "      <td>9994</td>\n",
              "      <td>0</td>\n",
              "      <td>0</td>\n",
              "      <td>1.95</td>\n",
              "      <td>3.20</td>\n",
              "      <td>3.60</td>\n",
              "      <td>1.80</td>\n",
              "      <td>3.30</td>\n",
              "      <td>3.95</td>\n",
              "      <td>1.90</td>\n",
              "      <td>3.2</td>\n",
              "      <td>3.5</td>\n",
              "      <td>1.90</td>\n",
              "      <td>3.2</td>\n",
              "      <td>3.50</td>\n",
              "    </tr>\n",
              "    <tr>\n",
              "      <th>2</th>\n",
              "      <td>2008</td>\n",
              "      <td>9984</td>\n",
              "      <td>8635</td>\n",
              "      <td>0</td>\n",
              "      <td>3</td>\n",
              "      <td>2.38</td>\n",
              "      <td>3.30</td>\n",
              "      <td>2.75</td>\n",
              "      <td>2.40</td>\n",
              "      <td>3.30</td>\n",
              "      <td>2.55</td>\n",
              "      <td>2.60</td>\n",
              "      <td>3.1</td>\n",
              "      <td>2.3</td>\n",
              "      <td>2.50</td>\n",
              "      <td>3.2</td>\n",
              "      <td>2.50</td>\n",
              "    </tr>\n",
              "    <tr>\n",
              "      <th>3</th>\n",
              "      <td>2008</td>\n",
              "      <td>9991</td>\n",
              "      <td>9998</td>\n",
              "      <td>5</td>\n",
              "      <td>0</td>\n",
              "      <td>1.44</td>\n",
              "      <td>3.75</td>\n",
              "      <td>7.50</td>\n",
              "      <td>1.40</td>\n",
              "      <td>4.00</td>\n",
              "      <td>6.80</td>\n",
              "      <td>1.40</td>\n",
              "      <td>3.9</td>\n",
              "      <td>6.0</td>\n",
              "      <td>1.44</td>\n",
              "      <td>3.6</td>\n",
              "      <td>6.50</td>\n",
              "    </tr>\n",
              "    <tr>\n",
              "      <th>4</th>\n",
              "      <td>2008</td>\n",
              "      <td>7947</td>\n",
              "      <td>9985</td>\n",
              "      <td>1</td>\n",
              "      <td>3</td>\n",
              "      <td>5.00</td>\n",
              "      <td>3.50</td>\n",
              "      <td>1.65</td>\n",
              "      <td>5.00</td>\n",
              "      <td>3.50</td>\n",
              "      <td>1.60</td>\n",
              "      <td>4.00</td>\n",
              "      <td>3.3</td>\n",
              "      <td>1.7</td>\n",
              "      <td>4.00</td>\n",
              "      <td>3.4</td>\n",
              "      <td>1.72</td>\n",
              "    </tr>\n",
              "    <tr>\n",
              "      <th>...</th>\n",
              "      <td>...</td>\n",
              "      <td>...</td>\n",
              "      <td>...</td>\n",
              "      <td>...</td>\n",
              "      <td>...</td>\n",
              "      <td>...</td>\n",
              "      <td>...</td>\n",
              "      <td>...</td>\n",
              "      <td>...</td>\n",
              "      <td>...</td>\n",
              "      <td>...</td>\n",
              "      <td>...</td>\n",
              "      <td>...</td>\n",
              "      <td>...</td>\n",
              "      <td>...</td>\n",
              "      <td>...</td>\n",
              "      <td>...</td>\n",
              "    </tr>\n",
              "    <tr>\n",
              "      <th>25974</th>\n",
              "      <td>2015</td>\n",
              "      <td>10190</td>\n",
              "      <td>10191</td>\n",
              "      <td>1</td>\n",
              "      <td>0</td>\n",
              "      <td>0.00</td>\n",
              "      <td>0.00</td>\n",
              "      <td>0.00</td>\n",
              "      <td>0.00</td>\n",
              "      <td>0.00</td>\n",
              "      <td>0.00</td>\n",
              "      <td>0.00</td>\n",
              "      <td>0.0</td>\n",
              "      <td>0.0</td>\n",
              "      <td>0.00</td>\n",
              "      <td>0.0</td>\n",
              "      <td>0.00</td>\n",
              "    </tr>\n",
              "    <tr>\n",
              "      <th>25975</th>\n",
              "      <td>2015</td>\n",
              "      <td>9824</td>\n",
              "      <td>10199</td>\n",
              "      <td>1</td>\n",
              "      <td>2</td>\n",
              "      <td>0.00</td>\n",
              "      <td>0.00</td>\n",
              "      <td>0.00</td>\n",
              "      <td>0.00</td>\n",
              "      <td>0.00</td>\n",
              "      <td>0.00</td>\n",
              "      <td>0.00</td>\n",
              "      <td>0.0</td>\n",
              "      <td>0.0</td>\n",
              "      <td>0.00</td>\n",
              "      <td>0.0</td>\n",
              "      <td>0.00</td>\n",
              "    </tr>\n",
              "    <tr>\n",
              "      <th>25976</th>\n",
              "      <td>2015</td>\n",
              "      <td>9956</td>\n",
              "      <td>10179</td>\n",
              "      <td>2</td>\n",
              "      <td>0</td>\n",
              "      <td>0.00</td>\n",
              "      <td>0.00</td>\n",
              "      <td>0.00</td>\n",
              "      <td>0.00</td>\n",
              "      <td>0.00</td>\n",
              "      <td>0.00</td>\n",
              "      <td>0.00</td>\n",
              "      <td>0.0</td>\n",
              "      <td>0.0</td>\n",
              "      <td>0.00</td>\n",
              "      <td>0.0</td>\n",
              "      <td>0.00</td>\n",
              "    </tr>\n",
              "    <tr>\n",
              "      <th>25977</th>\n",
              "      <td>2015</td>\n",
              "      <td>7896</td>\n",
              "      <td>10243</td>\n",
              "      <td>0</td>\n",
              "      <td>0</td>\n",
              "      <td>0.00</td>\n",
              "      <td>0.00</td>\n",
              "      <td>0.00</td>\n",
              "      <td>0.00</td>\n",
              "      <td>0.00</td>\n",
              "      <td>0.00</td>\n",
              "      <td>0.00</td>\n",
              "      <td>0.0</td>\n",
              "      <td>0.0</td>\n",
              "      <td>0.00</td>\n",
              "      <td>0.0</td>\n",
              "      <td>0.00</td>\n",
              "    </tr>\n",
              "    <tr>\n",
              "      <th>25978</th>\n",
              "      <td>2015</td>\n",
              "      <td>10192</td>\n",
              "      <td>9931</td>\n",
              "      <td>4</td>\n",
              "      <td>3</td>\n",
              "      <td>0.00</td>\n",
              "      <td>0.00</td>\n",
              "      <td>0.00</td>\n",
              "      <td>0.00</td>\n",
              "      <td>0.00</td>\n",
              "      <td>0.00</td>\n",
              "      <td>0.00</td>\n",
              "      <td>0.0</td>\n",
              "      <td>0.0</td>\n",
              "      <td>0.00</td>\n",
              "      <td>0.0</td>\n",
              "      <td>0.00</td>\n",
              "    </tr>\n",
              "  </tbody>\n",
              "</table>\n",
              "<p>25979 rows × 17 columns</p>\n",
              "</div>"
            ],
            "text/plain": [
              "       year  home_team_api_id  away_team_api_id  home_team_goal  \\\n",
              "0      2008              9987              9993               1   \n",
              "1      2008             10000              9994               0   \n",
              "2      2008              9984              8635               0   \n",
              "3      2008              9991              9998               5   \n",
              "4      2008              7947              9985               1   \n",
              "...     ...               ...               ...             ...   \n",
              "25974  2015             10190             10191               1   \n",
              "25975  2015              9824             10199               1   \n",
              "25976  2015              9956             10179               2   \n",
              "25977  2015              7896             10243               0   \n",
              "25978  2015             10192              9931               4   \n",
              "\n",
              "       away_team_goal  B365H  B365D  B365A   BWH   BWD   BWA   IWH  IWD  IWA  \\\n",
              "0                   1   1.73   3.40   5.00  1.75  3.35  4.20  1.85  3.2  3.5   \n",
              "1                   0   1.95   3.20   3.60  1.80  3.30  3.95  1.90  3.2  3.5   \n",
              "2                   3   2.38   3.30   2.75  2.40  3.30  2.55  2.60  3.1  2.3   \n",
              "3                   0   1.44   3.75   7.50  1.40  4.00  6.80  1.40  3.9  6.0   \n",
              "4                   3   5.00   3.50   1.65  5.00  3.50  1.60  4.00  3.3  1.7   \n",
              "...               ...    ...    ...    ...   ...   ...   ...   ...  ...  ...   \n",
              "25974               0   0.00   0.00   0.00  0.00  0.00  0.00  0.00  0.0  0.0   \n",
              "25975               2   0.00   0.00   0.00  0.00  0.00  0.00  0.00  0.0  0.0   \n",
              "25976               0   0.00   0.00   0.00  0.00  0.00  0.00  0.00  0.0  0.0   \n",
              "25977               0   0.00   0.00   0.00  0.00  0.00  0.00  0.00  0.0  0.0   \n",
              "25978               3   0.00   0.00   0.00  0.00  0.00  0.00  0.00  0.0  0.0   \n",
              "\n",
              "        LBH  LBD   LBA  \n",
              "0      1.80  3.3  3.75  \n",
              "1      1.90  3.2  3.50  \n",
              "2      2.50  3.2  2.50  \n",
              "3      1.44  3.6  6.50  \n",
              "4      4.00  3.4  1.72  \n",
              "...     ...  ...   ...  \n",
              "25974  0.00  0.0  0.00  \n",
              "25975  0.00  0.0  0.00  \n",
              "25976  0.00  0.0  0.00  \n",
              "25977  0.00  0.0  0.00  \n",
              "25978  0.00  0.0  0.00  \n",
              "\n",
              "[25979 rows x 17 columns]"
            ]
          },
          "metadata": {
            "tags": []
          },
          "execution_count": 10
        }
      ]
    },
    {
      "cell_type": "markdown",
      "metadata": {
        "id": "jhETu_2n9ZWD"
      },
      "source": [
        "#### Πίνακας Team_Attributes"
      ]
    },
    {
      "cell_type": "code",
      "metadata": {
        "id": "u8rI4MlY9ZWE",
        "outputId": "0d323916-b222-45dc-823d-3719c7dbe0c7"
      },
      "source": [
        "team_attributes"
      ],
      "execution_count": null,
      "outputs": [
        {
          "output_type": "execute_result",
          "data": {
            "text/html": [
              "<div>\n",
              "<style scoped>\n",
              "    .dataframe tbody tr th:only-of-type {\n",
              "        vertical-align: middle;\n",
              "    }\n",
              "\n",
              "    .dataframe tbody tr th {\n",
              "        vertical-align: top;\n",
              "    }\n",
              "\n",
              "    .dataframe thead th {\n",
              "        text-align: right;\n",
              "    }\n",
              "</style>\n",
              "<table border=\"1\" class=\"dataframe\">\n",
              "  <thead>\n",
              "    <tr style=\"text-align: right;\">\n",
              "      <th></th>\n",
              "      <th>year</th>\n",
              "      <th>team_api_id</th>\n",
              "      <th>buildUpPlaySpeed</th>\n",
              "      <th>buildUpPlayPassing</th>\n",
              "      <th>chanceCreationPassing</th>\n",
              "      <th>chanceCreationCrossing</th>\n",
              "      <th>chanceCreationShooting</th>\n",
              "      <th>defencePressure</th>\n",
              "      <th>defenceAggression</th>\n",
              "      <th>defenceTeamWidth</th>\n",
              "    </tr>\n",
              "  </thead>\n",
              "  <tbody>\n",
              "    <tr>\n",
              "      <th>0</th>\n",
              "      <td>2010</td>\n",
              "      <td>9930</td>\n",
              "      <td>60</td>\n",
              "      <td>50</td>\n",
              "      <td>60</td>\n",
              "      <td>65</td>\n",
              "      <td>55</td>\n",
              "      <td>50</td>\n",
              "      <td>55</td>\n",
              "      <td>45</td>\n",
              "    </tr>\n",
              "    <tr>\n",
              "      <th>1</th>\n",
              "      <td>2014</td>\n",
              "      <td>9930</td>\n",
              "      <td>52</td>\n",
              "      <td>56</td>\n",
              "      <td>54</td>\n",
              "      <td>63</td>\n",
              "      <td>64</td>\n",
              "      <td>47</td>\n",
              "      <td>44</td>\n",
              "      <td>54</td>\n",
              "    </tr>\n",
              "    <tr>\n",
              "      <th>2</th>\n",
              "      <td>2015</td>\n",
              "      <td>9930</td>\n",
              "      <td>47</td>\n",
              "      <td>54</td>\n",
              "      <td>54</td>\n",
              "      <td>63</td>\n",
              "      <td>64</td>\n",
              "      <td>47</td>\n",
              "      <td>44</td>\n",
              "      <td>54</td>\n",
              "    </tr>\n",
              "    <tr>\n",
              "      <th>3</th>\n",
              "      <td>2010</td>\n",
              "      <td>8485</td>\n",
              "      <td>70</td>\n",
              "      <td>70</td>\n",
              "      <td>70</td>\n",
              "      <td>70</td>\n",
              "      <td>70</td>\n",
              "      <td>60</td>\n",
              "      <td>70</td>\n",
              "      <td>70</td>\n",
              "    </tr>\n",
              "    <tr>\n",
              "      <th>4</th>\n",
              "      <td>2011</td>\n",
              "      <td>8485</td>\n",
              "      <td>47</td>\n",
              "      <td>52</td>\n",
              "      <td>53</td>\n",
              "      <td>48</td>\n",
              "      <td>52</td>\n",
              "      <td>47</td>\n",
              "      <td>47</td>\n",
              "      <td>52</td>\n",
              "    </tr>\n",
              "    <tr>\n",
              "      <th>...</th>\n",
              "      <td>...</td>\n",
              "      <td>...</td>\n",
              "      <td>...</td>\n",
              "      <td>...</td>\n",
              "      <td>...</td>\n",
              "      <td>...</td>\n",
              "      <td>...</td>\n",
              "      <td>...</td>\n",
              "      <td>...</td>\n",
              "      <td>...</td>\n",
              "    </tr>\n",
              "    <tr>\n",
              "      <th>1453</th>\n",
              "      <td>2011</td>\n",
              "      <td>10000</td>\n",
              "      <td>52</td>\n",
              "      <td>52</td>\n",
              "      <td>52</td>\n",
              "      <td>48</td>\n",
              "      <td>53</td>\n",
              "      <td>46</td>\n",
              "      <td>48</td>\n",
              "      <td>53</td>\n",
              "    </tr>\n",
              "    <tr>\n",
              "      <th>1454</th>\n",
              "      <td>2012</td>\n",
              "      <td>10000</td>\n",
              "      <td>54</td>\n",
              "      <td>51</td>\n",
              "      <td>47</td>\n",
              "      <td>52</td>\n",
              "      <td>50</td>\n",
              "      <td>44</td>\n",
              "      <td>55</td>\n",
              "      <td>53</td>\n",
              "    </tr>\n",
              "    <tr>\n",
              "      <th>1455</th>\n",
              "      <td>2013</td>\n",
              "      <td>10000</td>\n",
              "      <td>54</td>\n",
              "      <td>51</td>\n",
              "      <td>47</td>\n",
              "      <td>52</td>\n",
              "      <td>32</td>\n",
              "      <td>44</td>\n",
              "      <td>58</td>\n",
              "      <td>37</td>\n",
              "    </tr>\n",
              "    <tr>\n",
              "      <th>1456</th>\n",
              "      <td>2014</td>\n",
              "      <td>10000</td>\n",
              "      <td>54</td>\n",
              "      <td>51</td>\n",
              "      <td>47</td>\n",
              "      <td>52</td>\n",
              "      <td>32</td>\n",
              "      <td>44</td>\n",
              "      <td>58</td>\n",
              "      <td>37</td>\n",
              "    </tr>\n",
              "    <tr>\n",
              "      <th>1457</th>\n",
              "      <td>2015</td>\n",
              "      <td>10000</td>\n",
              "      <td>54</td>\n",
              "      <td>51</td>\n",
              "      <td>47</td>\n",
              "      <td>52</td>\n",
              "      <td>32</td>\n",
              "      <td>44</td>\n",
              "      <td>58</td>\n",
              "      <td>37</td>\n",
              "    </tr>\n",
              "  </tbody>\n",
              "</table>\n",
              "<p>1458 rows × 10 columns</p>\n",
              "</div>"
            ],
            "text/plain": [
              "      year  team_api_id  buildUpPlaySpeed  buildUpPlayPassing  \\\n",
              "0     2010         9930                60                  50   \n",
              "1     2014         9930                52                  56   \n",
              "2     2015         9930                47                  54   \n",
              "3     2010         8485                70                  70   \n",
              "4     2011         8485                47                  52   \n",
              "...    ...          ...               ...                 ...   \n",
              "1453  2011        10000                52                  52   \n",
              "1454  2012        10000                54                  51   \n",
              "1455  2013        10000                54                  51   \n",
              "1456  2014        10000                54                  51   \n",
              "1457  2015        10000                54                  51   \n",
              "\n",
              "      chanceCreationPassing  chanceCreationCrossing  chanceCreationShooting  \\\n",
              "0                        60                      65                      55   \n",
              "1                        54                      63                      64   \n",
              "2                        54                      63                      64   \n",
              "3                        70                      70                      70   \n",
              "4                        53                      48                      52   \n",
              "...                     ...                     ...                     ...   \n",
              "1453                     52                      48                      53   \n",
              "1454                     47                      52                      50   \n",
              "1455                     47                      52                      32   \n",
              "1456                     47                      52                      32   \n",
              "1457                     47                      52                      32   \n",
              "\n",
              "      defencePressure  defenceAggression  defenceTeamWidth  \n",
              "0                  50                 55                45  \n",
              "1                  47                 44                54  \n",
              "2                  47                 44                54  \n",
              "3                  60                 70                70  \n",
              "4                  47                 47                52  \n",
              "...               ...                ...               ...  \n",
              "1453               46                 48                53  \n",
              "1454               44                 55                53  \n",
              "1455               44                 58                37  \n",
              "1456               44                 58                37  \n",
              "1457               44                 58                37  \n",
              "\n",
              "[1458 rows x 10 columns]"
            ]
          },
          "metadata": {
            "tags": []
          },
          "execution_count": 11
        }
      ]
    },
    {
      "cell_type": "markdown",
      "metadata": {
        "id": "tBByLswU9ZWG"
      },
      "source": [
        "### 3.4 Κατασκευή των διανυσμάτων εκπαίδευσης\n",
        "\n",
        "Για την κατασκευή του διανύσματος εκπαίδευσης χρειάστηκε να συνδυάσουμε δεδομένα τόσο για από τους πίνακες Matches όσο και Team_Attributes. Στον πίνακα Matches οι στήλες ['home_team_api_id', 'away_team_api_id'] αποτελούν ξένα κλειδιά προς τον πίνακα  Team_Attributes. Εκμεταλλευόμενοι αυτή την πληροφορία κατασκευάσαμε το σύνολο εκπαίδευσης το οποίο αποτελείται τόσο από τις βασικές πληροφορίες που περιγράφουν έναν αγώνα, δηλαδή τις στήλες με τα αντίστοιχα στατιστικά:\n",
        "\n",
        "B365H, B365D, B365A,BWH, BWD, BWA, IWH, IWD, IWA, LBH, LBD, LBA\n",
        "\n",
        "Η συνάρτηση -**create_training_set** δέχεται ως ορίσματα τους δύο διαφορετικούς πίνακες και αναλαμβάνει την διαδικασία κατασκευής του τελικού συνόλου."
      ]
    },
    {
      "cell_type": "code",
      "metadata": {
        "id": "Y1-AGPy49ZWI"
      },
      "source": [
        "def create_training_set(matches, teams):\n",
        "    training = []\n",
        "    for index, row in matches.iterrows():\n",
        "        home_team_id = row['home_team_api_id']\n",
        "        away_team_id = row['away_team_api_id']\n",
        "        match_year = row['year']\n",
        "        \n",
        "        home_team_data = teams[(teams.team_api_id == home_team_id)]\n",
        "        home_team_data = home_team_data.drop(columns='team_api_id')\n",
        "        home_team_data.columns = 'A' + home_team_data.columns \n",
        "        \n",
        "        away_team_data = teams[(teams.team_api_id == away_team_id)]\n",
        "        away_team_data = away_team_data.drop(columns='team_api_id')\n",
        "        away_team_data.columns = 'B' + away_team_data.columns \n",
        "        \n",
        "        try:\n",
        "            tmp = pd.concat([row, home_team_data.iloc[1], away_team_data.iloc[1]], axis=0, join=\"inner\")\n",
        "        except:\n",
        "            continue\n",
        "        \n",
        "        training.append(tmp)\n",
        "        \n",
        "    return training"
      ],
      "execution_count": null,
      "outputs": []
    },
    {
      "cell_type": "code",
      "metadata": {
        "id": "B7NSDEOA9ZWK"
      },
      "source": [
        "if path.exists(\"train_x.csv\"):\n",
        "    train_x = pd.read_csv('train_x.csv')\n",
        "    columns_to_drop = ['Unnamed: 0', 'Byear', 'Ayear', 'r']\n",
        "    train_x = train_x.drop(columns=columns_to_drop)\n",
        "else:\n",
        "    \n",
        "    train_x = create_training_set(match, team_attributes)\n",
        "    train_x = pd.DataFrame(train_x)\n",
        "    train_x = train_x.drop(columns=['year', 'home_team_api_id', 'away_team_api_id'])"
      ],
      "execution_count": null,
      "outputs": []
    },
    {
      "cell_type": "markdown",
      "metadata": {
        "id": "Ue5FqPYQ9ZWL"
      },
      "source": [
        "Το τελικό σύνολο εκαπίδευσης αποτελείται από τις παρακάτω, 30 σε αριθμό, στήλες:"
      ]
    },
    {
      "cell_type": "code",
      "metadata": {
        "id": "6sKkcYZg9ZWL",
        "outputId": "9a37f70b-9c19-46d1-deaa-eefe18d4e13e"
      },
      "source": [
        "print(f'Number of columns: {len(train_x.columns)}')\n",
        "train_x.columns"
      ],
      "execution_count": null,
      "outputs": [
        {
          "output_type": "stream",
          "text": [
            "Number of columns: 30\n"
          ],
          "name": "stdout"
        },
        {
          "output_type": "execute_result",
          "data": {
            "text/plain": [
              "Index(['home_team_goal', 'away_team_goal', 'B365H', 'B365D', 'B365A', 'BWH',\n",
              "       'BWD', 'BWA', 'IWH', 'IWD', 'IWA', 'LBH', 'LBD', 'LBA',\n",
              "       'AbuildUpPlaySpeed', 'AbuildUpPlayPassing', 'AchanceCreationPassing',\n",
              "       'AchanceCreationCrossing', 'AchanceCreationShooting',\n",
              "       'AdefencePressure', 'AdefenceAggression', 'AdefenceTeamWidth',\n",
              "       'BbuildUpPlaySpeed', 'BbuildUpPlayPassing', 'BchanceCreationPassing',\n",
              "       'BchanceCreationCrossing', 'BchanceCreationShooting',\n",
              "       'BdefencePressure', 'BdefenceAggression', 'BdefenceTeamWidth'],\n",
              "      dtype='object')"
            ]
          },
          "metadata": {
            "tags": []
          },
          "execution_count": 14
        }
      ]
    },
    {
      "cell_type": "markdown",
      "metadata": {
        "id": "u98jYR2T9ZWN"
      },
      "source": [
        "Στην συνέχεια θα αφαιρεθούν οι ['home_team_goal', 'away_team_goal'] και θα αντικαταστθηθούν από την στήλη results όπου θα γίνει το διάνυσμα εικόνων."
      ]
    },
    {
      "cell_type": "markdown",
      "metadata": {
        "id": "5fr54VbM9ZWO"
      },
      "source": [
        "### 3.5 Υπολογισμός μεταβλητής έκβασης κάθε αγώνα \n",
        "\n",
        "Με γνώμονα την εκφώνηση η μεταβλητή έκβασης του αγώνα υπολογίζεται ως εξής\n",
        "\n",
        "$$\n",
        "r =\n",
        "\\left\\{\n",
        "\t\\begin{array}{ll}\n",
        "\t\tH  & \\mbox{if } a > 0 \\\\\n",
        "        D  & \\mbox{if } a = 0 \\\\\n",
        "\t\tA & \\mbox{if } a < 0\n",
        "\t\\end{array}\n",
        "\\right.\n",
        "$$\n",
        "\n",
        "Όταν η μεταβλητή $ a $ λαμβάνει θετικές τιμές αντιπροσωπεύει την νίκη του γηπεδούχου με τον αντίστοιχο αριθμό γκολ. όταν η μεταβλητή είναι μηδενική ή αρνητική, τότε ο αγώνας έληξε με ισοπαλία ή με νίκη της φιλοξενούμενης ομάδας αντίστοιχα.\n",
        "\n",
        "Όπου $ a = G_mh -G_ah $"
      ]
    },
    {
      "cell_type": "markdown",
      "metadata": {
        "id": "tv_5syK_9ZWP"
      },
      "source": [
        "Για τον υπολογισμό της μεταβλητής $ α $ πραγματοποιούμε αφαίρεση διανυσμάτων τύπου στήλη και μορφής $ n x 1 $. Τα δύο αυτά διανύσματα εξάγονται από τις αντίστοιχες στήλες 'home_team_goal' και 'away_team_goal'. Το αποτέλεσμα απωθηκέυεται στην αντίστοιχ στήλη σημειωμένη με 'r' από την λέξη 'results'."
      ]
    },
    {
      "cell_type": "code",
      "metadata": {
        "id": "FyQucz5f9ZWQ"
      },
      "source": [
        "train_x['r'] = train_x['home_team_goal'] - train_x['away_team_goal']"
      ],
      "execution_count": null,
      "outputs": []
    },
    {
      "cell_type": "markdown",
      "metadata": {
        "id": "hitlW6649ZWR"
      },
      "source": [
        "Χρήση μιας βοηθητικής δομής τύπου dictionary για την εκπαίδευση σε επίπεδο στοιχηματικής εταιρείας."
      ]
    },
    {
      "cell_type": "code",
      "metadata": {
        "id": "tcPTotd39ZWS"
      },
      "source": [
        "companies = {\n",
        "    'B364' : ['B365H', 'B365D', 'B365A' ,'r'],\n",
        "    'BW': ['BWH', 'BWD', 'BWA', 'r'],\n",
        "    'LW': ['IWH', 'IWD', 'IWA', 'r'],\n",
        "    'LB': ['LBH', 'LBD', 'LBA', 'r']\n",
        "}"
      ],
      "execution_count": null,
      "outputs": []
    },
    {
      "cell_type": "markdown",
      "metadata": {
        "id": "f-T--9xN9ZWT"
      },
      "source": [
        "### 3.6 Scaling των δεδομένων\n",
        "\n",
        "Για να ελαχιστοποιήσουμε την επιρρόη μεγαλύτερων αριθμών στα αποτελέσματα της γραμμικής παλνιδρόμησης καθώς και του νευρωνικού δικτύου, μετασχηματίσαμε τα τελικά δεδομένα μεταφέροντας στο εύρος [0, N]. Για την επίτευξη της διαδικασίας αυτής χρησιμοποιήσαμε την κλάση MinMaxScaler της βιβλιοθήκης sklearn."
      ]
    },
    {
      "cell_type": "code",
      "metadata": {
        "id": "trfoHpka9ZWV"
      },
      "source": [
        "scaler = MinMaxScaler()\n",
        "kf = KFold(n_splits=10)"
      ],
      "execution_count": null,
      "outputs": []
    },
    {
      "cell_type": "markdown",
      "metadata": {
        "id": "0JI0gYQc9ZWX"
      },
      "source": [
        "#### Βοηθητικές Συναρτήσεις \n",
        "\n",
        "Η συνάρτηση - best_booker(): Δέχεται ένα διάνυσμα όπου κάθε στοιχείο αποτελεί την μέση ακρίβεια του κάθε μοντέλου για κάθε στοιχηματική εταιρεία και σαν αποτέλεσμα αποτυπώνει την στοιχηματική εταιρεία με τα καλύτερα προγνωστικά.\n",
        "\n",
        "Η συνάρτηση - cluster(): Δέχεται σαν είσοδο το διάνυσμα που αποτελείται από την μεταβλητή έκβασης κάθε αγώνα. Σαν εξόδο επιστρέφει μια τιμή από το σύνολο {H, D, A} για κάθε αγώνα. Η μετατροπή από τις αριθμητικές τιμές σε μια από τις διακρτικές τιμές έγινε με τον τρόπο που όριζε η εκφώνηση της εργασίας."
      ]
    },
    {
      "cell_type": "code",
      "metadata": {
        "id": "V95KqOoL9ZWa"
      },
      "source": [
        "def best_booker(accuracies):\n",
        "    c = ['B364', 'BW', 'LW', 'LB']\n",
        "    index, value = max(enumerate(accuracies), key=operator.itemgetter(1))\n",
        "    \n",
        "    return c[index]\n",
        "\n",
        "def cluster(data):\n",
        "    tmp = data\n",
        "    normalized_result = [] \n",
        "    for i, res in enumerate(tmp):\n",
        "        if res > 0:\n",
        "            normalized_result.append('H')\n",
        "        elif res == 0:\n",
        "            normalized_result.append('D')\n",
        "        else:\n",
        "            normalized_result.append('A')\n",
        "    return normalized_result"
      ],
      "execution_count": null,
      "outputs": []
    },
    {
      "cell_type": "markdown",
      "metadata": {
        "id": "WpmuCMxA9ZWc"
      },
      "source": [
        "## Ερώτημα 1ο\n",
        "\n",
        "    Να υλοποιήσετε τον Αλγόριθμο Ελάχιστου Μέσου Τετραγωνικού Σφάλματος (Least Mean Squares), ώστε ο εκπαιδευμένος ταξινομητής να υλοποιεί την συνάρτηση διάκρισης της μορφής\n",
        "    𝒈𝒌 𝝍𝜿(𝒎):  ℝ𝟑→{𝑯,𝑫,𝑨}\n",
        "    για κάθε στοιχηματική εταιρεία. Να αναγνωρίσετε την στοιχηματική εταιρεία τα προγνωστικά της οποίας οδηγούν σε μεγαλύτερη ακρίβεια ταξινόμησης. "
      ]
    },
    {
      "cell_type": "markdown",
      "metadata": {
        "id": "-VOkXMCU9ZWd"
      },
      "source": [
        "Για την υλοποίηση του αλγορίθμου Least Mean Squares, χρησιμοποιήσαμε έναν νευρώνα τύπου Perceptron, τον αλγόριθμο gradient descent για να την ανανέωση των βαρών καθώς και την συνάρτηση μέσου τετραγωνικού σφάλματος ως συνάρτηση κόστους.\n",
        "\n",
        "Η συνάρτηση κόστους είναι πολύ σημαντική για τα νευρωνικά δίκτυα/αλγορίθμους βελτιστοποίησης και είναι ο μόνο τρόπος με τον οποίο μπορούμε να ποσοτικοποιήσουμε το σφάλμα τους. Η μείωση της ή καλύτερη η εύρεση ενός ελάχιστου σημείου, ισοδυναμεί με βελτίωση της απόδοσης του μοντέλου. Για κάθε δεδομένο συνδυασμό βαρών, η συνάρτηση κόστους μας βοηθάει να υπολογίσουμε το πραγματικό σφάλμα. Συνεπώς, είναι φανερό πως αν υπάρχει το ολικό της ελάχιστο δίνεται από τον καλύτερο δυνατό συνδυασμό βαρών, δηλαδή από τον συνδυασμό που προσεγγίζει καλύτερα την επιθυμητή συνάρτηση που μαθαίνει το νευρωνικό δίκτυο.\n",
        "\n",
        "Σκοπός μας είναι να εντοπίσουμε την τιμή εκείνη που μας επιφέρει το ολικό ελάχιστο όπως φαίνεται στο σχήμα. Στην πράξη επειδή οι συναρτήσεις μας δεν είναι δισδιάστατες γραμμικές συναρτήσεις και μπορεί να υπάρξουν πολλά διαφορετικά βάρη, η συνάρτηση σφάλματος είναι πιθανόν να μοιάζει κάπως έτσι.\n",
        "\n",
        "Σαν συνάρτηση κόστους επιλέξαμε την:\n",
        "\n",
        "$$ MSE = \\displaystyle\\frac{1}{n}\\sum_{t=1}^{n}(e_t^2 - y)^2 $$ \n",
        "\n",
        "Ο υπολογισμός των νέων βαρών γίνεται μέσω του αλγορίθμου Gradient Descent. Ως $ \\eta $ ορίζουμε έναν θετικό αριθμό ο οποίος επηρεάζει την ταχύτητα μάθησης του μοντέλου μας. Ο αριθμός αυτός λέγεται και learning rate.\n",
        "\n",
        "\\begin{equation}\n",
        "w_i = w_i - \\eta \\frac{\\partial C}{\\partial w_i}\n",
        "\\end{equation}\n",
        "\n",
        "Κατά την μεταβολή του κάθε βάρους προκύπτει το ερώτημα του κατά πόσο θα πρέπει να τα μεταβάλουμε ή με άλλα λόγια πόσο συμμετέχει το κάθε βάρος στο συνολικό σφάλμα Τις απαντήσεις σε αυτά τα ερωτήματα μας τις δίνουν ο αλγόριθμος Backpropagation που υπολογίζει τις μερικές παραγώγους για τις μεταβλητές βαρών.\n",
        "\n"
      ]
    },
    {
      "cell_type": "code",
      "metadata": {
        "id": "HCSqJL529ZWf",
        "outputId": "a28879b0-3402-40b1-9e52-5389e3de8bc2"
      },
      "source": [
        "accuracies = []\n",
        "for betting_company in companies:\n",
        "    tmp_train = train_x[companies[betting_company]].reset_index(drop=True)\n",
        "    tmp_y = tmp_train['r']\n",
        "    tmp_x = scaler.fit_transform(tmp_train.drop(columns=['r']))\n",
        "\n",
        "    print(\"####################################################\")\n",
        "    print(f'Betting Company: {betting_company}')\n",
        "    \n",
        "    k = 1\n",
        "    kf.get_n_splits(tmp_x)\n",
        "    acc = 0\n",
        "    for train_index, test_index in kf.split(tmp_x):\n",
        "        X_train, X_test = tmp_x[train_index], tmp_x[test_index]\n",
        "        y_train, y_test = tmp_y[train_index], tmp_y[test_index]\n",
        "        model = Sequential()\n",
        "\n",
        "        model.add(Dense(1, activation=\"linear\"))\n",
        "        opt = SGD(learning_rate=0.01)\n",
        "        model.compile(loss='mean_squared_error', optimizer=opt)\n",
        "        model.fit(X_train, np.array(y_train), epochs=3, verbose=0)\n",
        "        \n",
        "        prediction = scaler.transform(X_test)\n",
        "        prediction = model.predict(prediction)\n",
        "        prediction = cluster(prediction)\n",
        "        y_test = cluster(y_test)\n",
        "        print(f'Fold Number: {k}, {accuracy_score(y_test, prediction)}')\n",
        "        acc = acc + accuracy_score(y_test, prediction)\n",
        "        k = k + 1                      \n",
        "    k = 0\n",
        "    acc = acc / 10\n",
        "    accuracies.append(acc)\n",
        "    \n",
        "print(f'Στοιχηματική Εταιρεία με τα καλύτερα πρωγνοστικά: {best_booker(accuracies)}')"
      ],
      "execution_count": null,
      "outputs": [
        {
          "output_type": "stream",
          "text": [
            "####################################################\n",
            "Betting Company: B364\n",
            "Fold Number: 1, 0.46882217090069284\n",
            "Fold Number: 2, 0.45681293302540416\n",
            "Fold Number: 3, 0.26558891454965355\n",
            "Fold Number: 4, 0.44757505773672057\n",
            "Fold Number: 5, 0.47852193995381065\n",
            "Fold Number: 6, 0.45404157043879906\n",
            "Fold Number: 7, 0.3524249422632795\n",
            "Fold Number: 8, 0.4369515011547344\n",
            "Fold Number: 9, 0.4531177829099307\n",
            "Fold Number: 10, 0.48267898383371827\n",
            "####################################################\n",
            "Betting Company: BW\n",
            "Fold Number: 1, 0.46882217090069284\n",
            "Fold Number: 2, 0.45681293302540416\n",
            "Fold Number: 3, 0.4448036951501155\n",
            "Fold Number: 4, 0.44757505773672057\n",
            "Fold Number: 5, 0.47852193995381065\n",
            "Fold Number: 6, 0.2812933025404157\n",
            "Fold Number: 7, 0.2849884526558891\n",
            "Fold Number: 8, 0.4369515011547344\n",
            "Fold Number: 9, 0.4531177829099307\n",
            "Fold Number: 10, 0.2836027713625866\n",
            "####################################################\n",
            "Betting Company: LW\n",
            "Fold Number: 1, 0.2762124711316397\n",
            "Fold Number: 2, 0.4600461893764434\n",
            "Fold Number: 3, 0.2651270207852194\n",
            "Fold Number: 4, 0.292378752886836\n",
            "Fold Number: 5, 0.279445727482679\n",
            "Fold Number: 6, 0.2812933025404157\n",
            "Fold Number: 7, 0.2877598152424942\n",
            "Fold Number: 8, 0.4369515011547344\n",
            "Fold Number: 9, 0.31362586605080833\n",
            "Fold Number: 10, 0.48267898383371827\n",
            "####################################################\n",
            "Betting Company: LB\n",
            "Fold Number: 1, 0.46882217090069284\n",
            "Fold Number: 2, 0.45681293302540416\n",
            "Fold Number: 3, 0.4448036951501155\n",
            "Fold Number: 4, 0.44757505773672057\n",
            "Fold Number: 5, 0.47852193995381065\n",
            "Fold Number: 6, 0.45404157043879906\n",
            "Fold Number: 7, 0.4780600461893764\n",
            "Fold Number: 8, 0.4369515011547344\n",
            "Fold Number: 9, 0.4531177829099307\n",
            "Fold Number: 10, 0.48267898383371827\n",
            "Στοιχηματική Εταιρεία με τα καλύτερα πρωγνοστικά: LB\n"
          ],
          "name": "stdout"
        }
      ]
    },
    {
      "cell_type": "markdown",
      "metadata": {
        "id": "sIbvVU0O9ZWi"
      },
      "source": [
        "Στην παρακάτω απεικόνιση φαίνονται τα σημεία για τις τρείς διαφορετικές στήλες H,D,W για την εταιρεία BW."
      ]
    },
    {
      "cell_type": "code",
      "metadata": {
        "id": "-5wYvKq29ZWj",
        "outputId": "c737cdd4-de2b-4952-ac59-5c8754e9e4ae"
      },
      "source": [
        "import matplotlib.pyplot as plt\n",
        "fig = plt.figure()\n",
        "ax = plt.axes(projection=\"3d\")\n",
        "z_points = train_x['B365H']\n",
        "x_points = train_x['B365D']\n",
        "y_points = train_x['B365A']\n",
        "ax.scatter3D(x_points, y_points, z_points, c=z_points, cmap='hsv');\n",
        "plt.show()"
      ],
      "execution_count": null,
      "outputs": [
        {
          "output_type": "display_data",
          "data": {
            "image/png": "[encoded data removed]",
            "text/plain": [
              "<Figure size 432x288 with 1 Axes>"
            ]
          },
          "metadata": {
            "tags": [],
            "needs_background": "light"
          }
        }
      ]
    },
    {
      "cell_type": "markdown",
      "metadata": {
        "id": "W-qgnWD-9ZWl"
      },
      "source": [
        "## Ερώτημα 2ο\n",
        "\n",
        "    Να υλοποιήσετε τον Αλγόριθμο Ελάχιστου Τετραγωνικού Σφάλματος (Least Squares), ώστε ο εκπαιδευμένος ταξινομητής να υλοποιεί την συνάρτηση διάκρισης της μορφής\n",
        "    𝒈𝒌 𝝍𝜿(𝒎):  ℝ𝟑→{𝑯,𝑫,𝑨}\n",
        "    για κάθε στοιχηματική εταιρεία. Να αναγνωρίσετε την στοιχηματική εταιρεία τα προγνωστικά της οποίας οδηγούν σε μεγαλύτερη ακρίβεια ταξινόμησης. "
      ]
    },
    {
      "cell_type": "markdown",
      "metadata": {
        "id": "4TMAK-nN9ZWn"
      },
      "source": [
        "Ο Αλγόριθμος Ελάχιστου Τετραγωνικού Σφάλματος (Least Squares) χρησιμοποιείται για την επίλυση προβλημάτων βελτιστοποίησης, συχνότερα για προβλήματα ελαχιστοποίησης. Στόχος του είναι να υπολογίσει την καλύτερη δυνατή ευθεία αν εξετάζουμε έναν δισδιάστατο χώρο, έτσι ώστε η απόσταση από τα μεμονωμένα σημεία του χώρου να ελαχιστοποιείται. Ο ίδιος αλγόριθμος μπορεί να αναχθεί και σε περισσότερες διαστάσεις, όπως π.χ. στον τρισδιάστατο χώρο όπου εκεί στόχος είναι ο υπολογισμός του καλύτερου επιπέδου.\n",
        "\n",
        "Το μέτρο το οποίο αποτιμά την απόδοση του αλγορίθμου, δηλαδή η συνάρτηση κόστους είναι το τετραγωνικό σφάλμα:\n",
        "\n",
        "$$ \\hat{\\epsilon} = \\displaystyle\\sum_{t=1}^{n}(e_t^2 - y)^2 $$ \n",
        "\n",
        "O τρόπος που υλοποιείται ο συγκεκριμένος αλγόριθμος δεν είναι επαναληπτικός αλλά στατιστικός αφού κάνει χρήση στατιστικών δικτών. Έτσι το πρόβλημα υπολογισμού της best-fitting-line μετατρέπεται σε πρόβλημα εύρεσης ενός γραμμικού πολυωνήμου, με σταθερό όρο\n",
        "\n",
        "$$ \\hat{\\beta}_0 = \\bar{Y} – \\hat{\\beta}_1 \\bar{X} $$\n",
        "\n",
        "και συντελεστή διεύθυνσης:\n",
        "\n",
        "$$ \\hat{\\beta}_1 = \\frac{\\sum(X_i – \\bar{X}) (Y_i – \\bar{Y})} {\\sum(X_i – \\bar{X})^2} $$\n",
        "\n",
        "με την τελική ευθεία να είναι η:\n",
        "\n",
        "$$ \\hat{Y}_i = \\hat{\\beta}_0 + \\hat{\\beta}_1 X_i + \\hat{\\epsilon} $$"
      ]
    },
    {
      "cell_type": "code",
      "metadata": {
        "id": "421YmFqi9ZWp",
        "outputId": "1ad5def9-30fa-4eb8-eca2-39dd8474f47c"
      },
      "source": [
        "reg = linear_model.LinearRegression()\n",
        "accuracies = []\n",
        "for betting_company in companies:\n",
        "    tmp_train = train_x[companies[betting_company]].reset_index(drop=True)\n",
        "    tmp_y = tmp_train['r']\n",
        "    tmp_x = scaler.fit_transform(tmp_train.drop(columns=['r']))\n",
        "\n",
        "    print(\"####################################################\")\n",
        "    print(f'Betting Company: {betting_company}')\n",
        "    \n",
        "    k = 1\n",
        "    acc = 0\n",
        "    kf.get_n_splits(tmp_x)\n",
        "    for train_index, test_index in kf.split(tmp_x):\n",
        "        X_train, X_test = tmp_x[train_index], tmp_x[test_index]\n",
        "        y_train, y_test = tmp_y[train_index], tmp_y[test_index]\n",
        "        reg.fit(X_train, y_train)\n",
        "        \n",
        "        prediction = scaler.transform(X_test)\n",
        "        prediction = reg.predict(prediction)\n",
        "        prediction = cluster(prediction)\n",
        "        y_test = cluster(y_test)\n",
        "        print(f'Fold Number: {k}, {accuracy_score(y_test, prediction)}')\n",
        "        acc = acc + accuracy_score(y_test, prediction)\n",
        "        k = k + 1                      \n",
        "    k = 0\n",
        "    acc = acc / 10\n",
        "    accuracies.append(acc)\n",
        "    \n",
        "print(f'Στοιχηματική Εταιρεία με τα καλύτερα πρωγνοστικά: {best_booker(accuracies)}')"
      ],
      "execution_count": null,
      "outputs": [
        {
          "output_type": "stream",
          "text": [
            "####################################################\n",
            "Betting Company: B364\n",
            "Fold Number: 1, 0.46882217090069284\n",
            "Fold Number: 2, 0.45681293302540416\n",
            "Fold Number: 3, 0.4448036951501155\n",
            "Fold Number: 4, 0.44757505773672057\n",
            "Fold Number: 5, 0.47852193995381065\n",
            "Fold Number: 6, 0.45404157043879906\n",
            "Fold Number: 7, 0.4780600461893764\n",
            "Fold Number: 8, 0.4369515011547344\n",
            "Fold Number: 9, 0.4531177829099307\n",
            "Fold Number: 10, 0.4836027713625866\n",
            "####################################################\n",
            "Betting Company: BW\n",
            "Fold Number: 1, 0.46882217090069284\n",
            "Fold Number: 2, 0.45681293302540416\n",
            "Fold Number: 3, 0.4448036951501155\n",
            "Fold Number: 4, 0.44757505773672057\n",
            "Fold Number: 5, 0.47852193995381065\n",
            "Fold Number: 6, 0.45404157043879906\n",
            "Fold Number: 7, 0.4780600461893764\n",
            "Fold Number: 8, 0.4369515011547344\n",
            "Fold Number: 9, 0.4531177829099307\n",
            "Fold Number: 10, 0.48314087759815244\n",
            "####################################################\n",
            "Betting Company: LW\n",
            "Fold Number: 1, 0.46882217090069284\n",
            "Fold Number: 2, 0.45681293302540416\n",
            "Fold Number: 3, 0.4448036951501155\n",
            "Fold Number: 4, 0.44757505773672057\n",
            "Fold Number: 5, 0.47990762124711317\n",
            "Fold Number: 6, 0.45496535796766746\n",
            "Fold Number: 7, 0.4780600461893764\n",
            "Fold Number: 8, 0.4369515011547344\n",
            "Fold Number: 9, 0.4531177829099307\n",
            "Fold Number: 10, 0.4836027713625866\n",
            "####################################################\n",
            "Betting Company: LB\n",
            "Fold Number: 1, 0.46882217090069284\n",
            "Fold Number: 2, 0.45681293302540416\n",
            "Fold Number: 3, 0.4448036951501155\n",
            "Fold Number: 4, 0.44757505773672057\n",
            "Fold Number: 5, 0.47852193995381065\n",
            "Fold Number: 6, 0.45404157043879906\n",
            "Fold Number: 7, 0.4780600461893764\n",
            "Fold Number: 8, 0.4369515011547344\n",
            "Fold Number: 9, 0.4531177829099307\n",
            "Fold Number: 10, 0.48314087759815244\n",
            "Στοιχηματική Εταιρεία με τα καλύτερα πρωγνοστικά: LW\n"
          ],
          "name": "stdout"
        }
      ]
    },
    {
      "cell_type": "markdown",
      "metadata": {
        "id": "gcjmlWSP9ZWr"
      },
      "source": [
        "## Ερώτημα 3ο\n",
        "\n",
        "Να υλοποιήσετε ένα πολυστρωματικό νευρωνικό δίκτυο, ώστε ο εκπαιδευμένος ταξινομητής να υλοποιεί μια συνάρτηση διάκρισης της μορφής\n",
        "𝒈𝜱(𝒎):\n",
        "ℝ𝟐𝟖→{𝑯,𝑫,𝑨}\n",
        ",  όπου το\n",
        "𝜱(𝒎)∈\n",
        "ℝ𝟐𝟖\n",
        "αντιστοιχεί στο πλήρες διάνυσμα χαρακτηριστικών του κάθε αγώνα που δίνεται από την σχέση.\n",
        " \n",
        " "
      ]
    },
    {
      "cell_type": "code",
      "metadata": {
        "id": "4tdG4jIt9ZWt"
      },
      "source": [
        "columns_to_drop = ['home_team_goal', 'away_team_goal', 'r']"
      ],
      "execution_count": null,
      "outputs": []
    },
    {
      "cell_type": "code",
      "metadata": {
        "id": "kIPgxqZN9ZWu",
        "outputId": "affabb8c-5426-47ed-806b-6aadde92f2f7"
      },
      "source": [
        "tmp_y = train_x['r']\n",
        "tmp_x = scaler.fit_transform(train_x.drop(columns=columns_to_drop))\n",
        "\n",
        "print(\"####################################################\")\n",
        "print('Neural Network Training')\n",
        "    \n",
        "k = 1\n",
        "kf.get_n_splits(tmp_x)\n",
        "acc = 0\n",
        "for train_index, test_index in kf.split(tmp_x):\n",
        "    X_train, X_test = tmp_x[train_index], tmp_x[test_index]\n",
        "    y_train, y_test = tmp_y[train_index], tmp_y[test_index]\n",
        "    model = Sequential()\n",
        "\n",
        "    model.add(Dense(14, activation=\"linear\"))\n",
        "    model.add(Dense(14, activation=\"linear\"))\n",
        "    model.add(Dense(1, activation=\"linear\"))\n",
        "    \n",
        "    opt = SGD(learning_rate=0.01)\n",
        "    model.compile(loss='mean_squared_error', optimizer=opt)\n",
        "    model.fit(X_train, np.array(y_train), epochs=3)\n",
        "        \n",
        "    prediction = scaler.transform(X_test)\n",
        "    prediction = model.predict(prediction)\n",
        "    prediction = cluster(prediction)\n",
        "    y_test = cluster(y_test)\n",
        "    print(f'Fold Number: {k}, {accuracy_score(y_test, prediction)}')\n",
        "    acc = acc + accuracy_score(y_test, prediction)\n",
        "    k = k + 1                      "
      ],
      "execution_count": null,
      "outputs": [
        {
          "output_type": "stream",
          "text": [
            "####################################################\n",
            "Neural Network Training\n",
            "Train on 19485 samples\n",
            "Epoch 1/3\n",
            "19485/19485 [==============================] - 1s 42us/sample - loss: 2.8149\n",
            "Epoch 2/3\n",
            "19485/19485 [==============================] - 1s 28us/sample - loss: 2.5862\n",
            "Epoch 3/3\n",
            "19485/19485 [==============================] - 1s 26us/sample - loss: 2.5704\n",
            "Fold Number: 1, 0.2762124711316397\n",
            "Train on 19485 samples\n",
            "Epoch 1/3\n",
            "19485/19485 [==============================] - 1s 43us/sample - loss: 2.7256\n",
            "Epoch 2/3\n",
            "19485/19485 [==============================] - 0s 25us/sample - loss: 2.5736\n",
            "Epoch 3/3\n",
            "19485/19485 [==============================] - 0s 24us/sample - loss: 2.5654\n",
            "Fold Number: 2, 0.2905311778290993\n",
            "Train on 19485 samples\n",
            "Epoch 1/3\n",
            "19485/19485 [==============================] - 1s 43us/sample - loss: 2.7495\n",
            "Epoch 2/3\n",
            "19485/19485 [==============================] - 0s 24us/sample - loss: 2.6183\n",
            "Epoch 3/3\n",
            "19485/19485 [==============================] - 0s 24us/sample - loss: 2.6073\n",
            "Fold Number: 3, 0.2651270207852194\n",
            "Train on 19485 samples\n",
            "Epoch 1/3\n",
            "19485/19485 [==============================] - 1s 44us/sample - loss: 2.6948\n",
            "Epoch 2/3\n",
            "19485/19485 [==============================] - 0s 25us/sample - loss: 2.5639\n",
            "Epoch 3/3\n",
            "19485/19485 [==============================] - 0s 26us/sample - loss: 2.5575\n",
            "Fold Number: 4, 0.292378752886836\n",
            "Train on 19485 samples\n",
            "Epoch 1/3\n",
            "19485/19485 [==============================] - 1s 43us/sample - loss: 2.7460\n",
            "Epoch 2/3\n",
            "19485/19485 [==============================] - 0s 25us/sample - loss: 2.5864\n",
            "Epoch 3/3\n",
            "19485/19485 [==============================] - 1s 26us/sample - loss: 2.5622\n",
            "Fold Number: 5, 0.279445727482679\n",
            "Train on 19485 samples\n",
            "Epoch 1/3\n",
            "19485/19485 [==============================] - 1s 43us/sample - loss: 2.7589\n",
            "Epoch 2/3\n",
            "19485/19485 [==============================] - 1s 26us/sample - loss: 2.6122\n",
            "Epoch 3/3\n",
            "19485/19485 [==============================] - 1s 26us/sample - loss: 2.6019\n",
            "Fold Number: 6, 0.2812933025404157\n",
            "Train on 19485 samples\n",
            "Epoch 1/3\n",
            "19485/19485 [==============================] - 1s 41us/sample - loss: 2.6741\n",
            "Epoch 2/3\n",
            "19485/19485 [==============================] - 0s 23us/sample - loss: 2.5242\n",
            "Epoch 3/3\n",
            "19485/19485 [==============================] - 0s 23us/sample - loss: 2.5122\n",
            "Fold Number: 7, 0.2849884526558891\n",
            "Train on 19485 samples\n",
            "Epoch 1/3\n",
            "19485/19485 [==============================] - 1s 44us/sample - loss: 2.7388\n",
            "Epoch 2/3\n",
            "19485/19485 [==============================] - 0s 25us/sample - loss: 2.6255\n",
            "Epoch 3/3\n",
            "19485/19485 [==============================] - 0s 25us/sample - loss: 2.6093\n",
            "Fold Number: 8, 0.3030023094688222\n",
            "Train on 19485 samples\n",
            "Epoch 1/3\n",
            "19485/19485 [==============================] - 1s 43us/sample - loss: 2.8137\n",
            "Epoch 2/3\n",
            "19485/19485 [==============================] - 0s 24us/sample - loss: 2.5792\n",
            "Epoch 3/3\n",
            "19485/19485 [==============================] - 0s 24us/sample - loss: 2.5571\n",
            "Fold Number: 9, 0.3334872979214781\n",
            "Train on 19485 samples\n",
            "Epoch 1/3\n",
            "19485/19485 [==============================] - 1s 45us/sample - loss: 2.7221\n",
            "Epoch 2/3\n",
            "19485/19485 [==============================] - 0s 24us/sample - loss: 2.5891\n",
            "Epoch 3/3\n",
            "19485/19485 [==============================] - 0s 26us/sample - loss: 2.5644\n",
            "Fold Number: 10, 0.2836027713625866\n"
          ],
          "name": "stdout"
        }
      ]
    }
  ]
}